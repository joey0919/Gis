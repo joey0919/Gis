{
 "cells": [
  {
   "cell_type": "code",
   "execution_count": 1,
   "id": "050a39c8",
   "metadata": {},
   "outputs": [],
   "source": [
    "import pandas as pd"
   ]
  },
  {
   "cell_type": "code",
   "execution_count": 2,
   "id": "bf750807",
   "metadata": {},
   "outputs": [
    {
     "data": {
      "text/html": [
       "<div>\n",
       "<style scoped>\n",
       "    .dataframe tbody tr th:only-of-type {\n",
       "        vertical-align: middle;\n",
       "    }\n",
       "\n",
       "    .dataframe tbody tr th {\n",
       "        vertical-align: top;\n",
       "    }\n",
       "\n",
       "    .dataframe thead th {\n",
       "        text-align: right;\n",
       "    }\n",
       "</style>\n",
       "<table border=\"1\" class=\"dataframe\">\n",
       "  <thead>\n",
       "    <tr style=\"text-align: right;\">\n",
       "      <th></th>\n",
       "      <th>업종명</th>\n",
       "      <th>업소명</th>\n",
       "      <th>소재지 도로명주소</th>\n",
       "      <th>소재지 지번주소</th>\n",
       "      <th>소재지전화</th>\n",
       "      <th>데이터기준일자</th>\n",
       "    </tr>\n",
       "  </thead>\n",
       "  <tbody>\n",
       "    <tr>\n",
       "      <th>0</th>\n",
       "      <td>유흥주점영업</td>\n",
       "      <td>킹노래바</td>\n",
       "      <td>서울특별시 양천구 공항대로 564, 지하 1층 (목동)</td>\n",
       "      <td>서울특별시 양천구 목동 602-1 지하 1층</td>\n",
       "      <td>02-2652-8983</td>\n",
       "      <td>2023-08-10</td>\n",
       "    </tr>\n",
       "    <tr>\n",
       "      <th>1</th>\n",
       "      <td>유흥주점영업</td>\n",
       "      <td>터널</td>\n",
       "      <td>서울특별시 양천구 신월로 292, 지하 1층 (신정동)</td>\n",
       "      <td>서울특별시 양천구 신정동 1030-1 지하 1층</td>\n",
       "      <td>02-2651-4028</td>\n",
       "      <td>2023-08-10</td>\n",
       "    </tr>\n",
       "    <tr>\n",
       "      <th>2</th>\n",
       "      <td>유흥주점영업</td>\n",
       "      <td>타임노래뱅크</td>\n",
       "      <td>서울특별시 양천구 등촌로 182, 지하 1층 (목동)</td>\n",
       "      <td>서울특별시 양천구 목동 651-9 지하 1층</td>\n",
       "      <td>02-2651-4208</td>\n",
       "      <td>2023-08-10</td>\n",
       "    </tr>\n",
       "    <tr>\n",
       "      <th>3</th>\n",
       "      <td>유흥주점영업</td>\n",
       "      <td>캉캉노래바</td>\n",
       "      <td>서울특별시 양천구 목동서로 213, 세신비젼프라자 3층 306~309호 (목동)</td>\n",
       "      <td>서울특별시 양천구 목동 923 세신비젼프라자 3층 306~309호</td>\n",
       "      <td>02-2653-2991</td>\n",
       "      <td>2023-08-10</td>\n",
       "    </tr>\n",
       "    <tr>\n",
       "      <th>4</th>\n",
       "      <td>단란주점</td>\n",
       "      <td>라온뮤직타운</td>\n",
       "      <td>서울특별시 양천구 중앙로 263, 지하 1층 (신정동)</td>\n",
       "      <td>서울특별시 양천구 신정동 1183-7 지하 1층</td>\n",
       "      <td>02-2695-8915</td>\n",
       "      <td>2023-08-10</td>\n",
       "    </tr>\n",
       "    <tr>\n",
       "      <th>...</th>\n",
       "      <td>...</td>\n",
       "      <td>...</td>\n",
       "      <td>...</td>\n",
       "      <td>...</td>\n",
       "      <td>...</td>\n",
       "      <td>...</td>\n",
       "    </tr>\n",
       "    <tr>\n",
       "      <th>63</th>\n",
       "      <td>단란주점</td>\n",
       "      <td>라이브7080 1박2일</td>\n",
       "      <td>서울특별시 양천구 중앙로 284, 동성빌딩 지하 1층 (신정동)</td>\n",
       "      <td>서울특별시 양천구 신정동 972-3 동성빌딩 지하 1층</td>\n",
       "      <td>NaN</td>\n",
       "      <td>2023-08-10</td>\n",
       "    </tr>\n",
       "    <tr>\n",
       "      <th>64</th>\n",
       "      <td>단란주점</td>\n",
       "      <td>오페라노래바</td>\n",
       "      <td>서울특별시 양천구 중앙로 257, 지하 1층 (신정동)</td>\n",
       "      <td>서울특별시 양천구 신정동 1183-11 지하 1층</td>\n",
       "      <td>02-2695-8259</td>\n",
       "      <td>2023-08-10</td>\n",
       "    </tr>\n",
       "    <tr>\n",
       "      <th>65</th>\n",
       "      <td>단란주점</td>\n",
       "      <td>라이브사랑벌</td>\n",
       "      <td>서울특별시 양천구 중앙로 269, 지하 1층 (신정동)</td>\n",
       "      <td>서울특별시 양천구 신정동 1190-6 지하 1층</td>\n",
       "      <td>NaN</td>\n",
       "      <td>2023-08-10</td>\n",
       "    </tr>\n",
       "    <tr>\n",
       "      <th>66</th>\n",
       "      <td>단란주점</td>\n",
       "      <td>터널</td>\n",
       "      <td>서울특별시 양천구 중앙로 261, 2층 (신정동)</td>\n",
       "      <td>서울특별시 양천구 신정동 1183-8 2층</td>\n",
       "      <td>02-2698-5454</td>\n",
       "      <td>2023-08-10</td>\n",
       "    </tr>\n",
       "    <tr>\n",
       "      <th>67</th>\n",
       "      <td>단란주점</td>\n",
       "      <td>보고싶다</td>\n",
       "      <td>서울특별시 양천구 중앙로 247, 지하 1층 (신정동)</td>\n",
       "      <td>서울특별시 양천구 신정동 1182-7 지하 1층</td>\n",
       "      <td>NaN</td>\n",
       "      <td>2023-08-10</td>\n",
       "    </tr>\n",
       "  </tbody>\n",
       "</table>\n",
       "<p>68 rows × 6 columns</p>\n",
       "</div>"
      ],
      "text/plain": [
       "       업종명           업소명                                     소재지 도로명주소  \\\n",
       "0   유흥주점영업          킹노래바                서울특별시 양천구 공항대로 564, 지하 1층 (목동)   \n",
       "1   유흥주점영업            터널                서울특별시 양천구 신월로 292, 지하 1층 (신정동)   \n",
       "2   유흥주점영업        타임노래뱅크                 서울특별시 양천구 등촌로 182, 지하 1층 (목동)   \n",
       "3   유흥주점영업         캉캉노래바  서울특별시 양천구 목동서로 213, 세신비젼프라자 3층 306~309호 (목동)   \n",
       "4     단란주점        라온뮤직타운                서울특별시 양천구 중앙로 263, 지하 1층 (신정동)   \n",
       "..     ...           ...                                           ...   \n",
       "63    단란주점  라이브7080 1박2일           서울특별시 양천구 중앙로 284, 동성빌딩 지하 1층 (신정동)   \n",
       "64    단란주점        오페라노래바                서울특별시 양천구 중앙로 257, 지하 1층 (신정동)   \n",
       "65    단란주점        라이브사랑벌                서울특별시 양천구 중앙로 269, 지하 1층 (신정동)   \n",
       "66    단란주점            터널                   서울특별시 양천구 중앙로 261, 2층 (신정동)   \n",
       "67    단란주점          보고싶다                서울특별시 양천구 중앙로 247, 지하 1층 (신정동)   \n",
       "\n",
       "                                소재지 지번주소           소재지전화     데이터기준일자  \n",
       "0              서울특별시 양천구 목동 602-1 지하 1층     02-2652-8983  2023-08-10  \n",
       "1            서울특별시 양천구 신정동 1030-1 지하 1층     02-2651-4028  2023-08-10  \n",
       "2              서울특별시 양천구 목동 651-9 지하 1층     02-2651-4208  2023-08-10  \n",
       "3   서울특별시 양천구 목동 923 세신비젼프라자 3층 306~309호    02-2653-2991  2023-08-10  \n",
       "4            서울특별시 양천구 신정동 1183-7 지하 1층     02-2695-8915  2023-08-10  \n",
       "..                                   ...             ...         ...  \n",
       "63       서울특별시 양천구 신정동 972-3 동성빌딩 지하 1층              NaN  2023-08-10  \n",
       "64          서울특별시 양천구 신정동 1183-11 지하 1층     02-2695-8259  2023-08-10  \n",
       "65           서울특별시 양천구 신정동 1190-6 지하 1층              NaN  2023-08-10  \n",
       "66              서울특별시 양천구 신정동 1183-8 2층     02-2698-5454  2023-08-10  \n",
       "67           서울특별시 양천구 신정동 1182-7 지하 1층              NaN  2023-08-10  \n",
       "\n",
       "[68 rows x 6 columns]"
      ]
     },
     "execution_count": 2,
     "metadata": {},
     "output_type": "execute_result"
    }
   ],
   "source": [
    "# csv파일 불러오기\n",
    "csv = pd.read_csv('서울특별시_양천구_유흥단란주점 현황_20230810.csv',encoding='cp949')\n",
    "csv"
   ]
  },
  {
   "cell_type": "code",
   "execution_count": 3,
   "id": "cc52c06a",
   "metadata": {},
   "outputs": [
    {
     "data": {
      "text/plain": [
       "0                   서울특별시 양천구 공항대로 564, 지하 1층 (목동)\n",
       "1                   서울특별시 양천구 신월로 292, 지하 1층 (신정동)\n",
       "2                    서울특별시 양천구 등촌로 182, 지하 1층 (목동)\n",
       "3     서울특별시 양천구 목동서로 213, 세신비젼프라자 3층 306~309호 (목동)\n",
       "4                   서울특별시 양천구 중앙로 263, 지하 1층 (신정동)\n",
       "                          ...                     \n",
       "63             서울특별시 양천구 중앙로 284, 동성빌딩 지하 1층 (신정동)\n",
       "64                  서울특별시 양천구 중앙로 257, 지하 1층 (신정동)\n",
       "65                  서울특별시 양천구 중앙로 269, 지하 1층 (신정동)\n",
       "66                     서울특별시 양천구 중앙로 261, 2층 (신정동)\n",
       "67                  서울특별시 양천구 중앙로 247, 지하 1층 (신정동)\n",
       "Name: 소재지 도로명주소, Length: 68, dtype: object"
      ]
     },
     "execution_count": 3,
     "metadata": {},
     "output_type": "execute_result"
    }
   ],
   "source": [
    "# 데이터프레임 주소값 추출\n",
    "address= csv['소재지 도로명주소']\n",
    "address"
   ]
  },
  {
   "cell_type": "code",
   "execution_count": 4,
   "id": "aa51f3aa",
   "metadata": {},
   "outputs": [
    {
     "name": "stdout",
     "output_type": "stream",
     "text": [
      "0     서울특별시 양천구 공항대로 564,\n",
      "1      서울특별시 양천구 신월로 292,\n",
      "2      서울특별시 양천구 등촌로 182,\n",
      "3     서울특별시 양천구 목동서로 213,\n",
      "4      서울특별시 양천구 중앙로 263,\n",
      "             ...         \n",
      "63     서울특별시 양천구 중앙로 284,\n",
      "64     서울특별시 양천구 중앙로 257,\n",
      "65     서울특별시 양천구 중앙로 269,\n",
      "66     서울특별시 양천구 중앙로 261,\n",
      "67     서울특별시 양천구 중앙로 247,\n",
      "Name: 소재지 도로명주소, Length: 68, dtype: object\n"
     ]
    }
   ],
   "source": [
    "# 주소 데이터 깔끔하게 다듬기\n",
    "for i in range(len(address)):\n",
    "    a = address[i].split(' ')\n",
    "    address[i] = \" \".join(a[0:4])\n",
    "print(address)"
   ]
  },
  {
   "cell_type": "code",
   "execution_count": 5,
   "id": "402a9c32",
   "metadata": {},
   "outputs": [
    {
     "name": "stdout",
     "output_type": "stream",
     "text": [
      "Collecting geopy\n",
      "  Obtaining dependency information for geopy from https://files.pythonhosted.org/packages/e1/58/9289c6a03116025cdb61461d99b2493daa4967a80b13755463d71a0affeb/geopy-2.4.0-py3-none-any.whl.metadata\n",
      "  Downloading geopy-2.4.0-py3-none-any.whl.metadata (6.8 kB)\n",
      "Collecting geographiclib<3,>=1.52 (from geopy)\n",
      "  Downloading geographiclib-2.0-py3-none-any.whl (40 kB)\n",
      "     ---------------------------------------- 0.0/40.3 kB ? eta -:--:--\n",
      "     ---------------------------------------- 40.3/40.3 kB ? eta 0:00:00\n",
      "Downloading geopy-2.4.0-py3-none-any.whl (125 kB)\n",
      "   ---------------------------------------- 0.0/125.4 kB ? eta -:--:--\n",
      "   ---------------------------------------- 125.4/125.4 kB 7.2 MB/s eta 0:00:00\n",
      "Installing collected packages: geographiclib, geopy\n",
      "Successfully installed geographiclib-2.0 geopy-2.4.0\n",
      "Note: you may need to restart the kernel to use updated packages.\n"
     ]
    }
   ],
   "source": [
    "pip install geopy"
   ]
  },
  {
   "cell_type": "code",
   "execution_count": 6,
   "id": "faa4f824",
   "metadata": {},
   "outputs": [],
   "source": [
    "####### 도로명주소 위도 경도 값으로 바꿔주기 ########\n",
    "from geopy.geocoders import Nominatim\n",
    "geo_local = Nominatim(user_agent='South Korea')\n",
    "\n",
    "# 위도, 경도 반환하는 함수\n",
    "def geocoding(address):\n",
    "    try:\n",
    "        geo = geo_local.geocode(address)\n",
    "        x_y = [geo.latitude, geo.longitude]\n",
    "        return x_y\n",
    "\n",
    "    except:\n",
    "        return [0,0]"
   ]
  },
  {
   "cell_type": "code",
   "execution_count": 7,
   "id": "0184c0d8",
   "metadata": {},
   "outputs": [],
   "source": [
    "#####주소를 위,경도 값으로 변환하기 #####\n",
    "latitude = []\n",
    "longitude =[]\n",
    "\n",
    "for i in address:\n",
    "    latitude.append(geocoding(i)[0])\n",
    "    longitude.append(geocoding(i)[1])"
   ]
  },
  {
   "cell_type": "code",
   "execution_count": 12,
   "id": "de589cc9",
   "metadata": {},
   "outputs": [],
   "source": [
    "#####Dataframe만들기######\n",
    "address_df = pd.DataFrame({**csv, '주소':address,'위도':latitude,'경도':longitude})\n",
    "\n",
    "#df저장\n",
    "address_df.to_csv('서울특별시_양천구_유흥단란주점 현황_20230810_가공.csv',encoding='UTF-8-sig', index=False)"
   ]
  },
  {
   "cell_type": "code",
   "execution_count": null,
   "id": "4fac513e",
   "metadata": {},
   "outputs": [],
   "source": []
  }
 ],
 "metadata": {
  "kernelspec": {
   "display_name": "Python 3 (ipykernel)",
   "language": "python",
   "name": "python3"
  },
  "language_info": {
   "codemirror_mode": {
    "name": "ipython",
    "version": 3
   },
   "file_extension": ".py",
   "mimetype": "text/x-python",
   "name": "python",
   "nbconvert_exporter": "python",
   "pygments_lexer": "ipython3",
   "version": "3.11.4"
  }
 },
 "nbformat": 4,
 "nbformat_minor": 5
}
